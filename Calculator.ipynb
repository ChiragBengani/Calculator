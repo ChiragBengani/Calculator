{
 "cells": [
  {
   "cell_type": "code",
   "execution_count": 1,
   "metadata": {},
   "outputs": [],
   "source": [
    "import tkinter as tk\n",
    "\n",
    "\n",
    "\n",
    "\n",
    "class Calc:\n",
    "    def __init__(self):\n",
    "        self.window=tk.Tk()\n",
    "        self.window.geometry(\"400x667\")\n",
    "        self.window.title(\"Simple Calculator\")\n",
    "        \n",
    "        self.total_exp=\"0\"\n",
    "        self.current_exp=\"0\"\n",
    "        self.displayframe=self.create_display_frame()\n",
    "        self.total_label,self.label=self.create_display_labels()\n",
    "        self.buttonsframe=self.create_buttons_frame()\n",
    "        \n",
    "    def create_display_labels(self):\n",
    "        total_label=tk.Label(self.displayframe, text=self.total_exp, anchor=tk.E,bg=\"#000000\",fg=\"#FFA500\",padx=25,font=(\"Arial\",16))\n",
    "        total_label.pack(expand=True,fill=\"both\")\n",
    "        label=tk.Label(self.displayframe, text=self.current_exp, anchor=tk.E,bg=\"#000000\",fg=\"#FFA500\",padx=25,font=(\"Arial\",40,\"bold\"))\n",
    "        label.pack(expand=True,fill=\"both\")\n",
    "        \n",
    "        return total_label,label\n",
    "    def create_display_frame(self):\n",
    "        frame=tk.Frame(self.window,height=250,bg=\"#000000\")\n",
    "        frame.pack(expand=True,fill=\"both\")\n",
    "        return frame\n",
    "    \n",
    "    def create_buttons_frame(self):\n",
    "        frame=tk.Frame(self.window)\n",
    "        frame.pack(expand=True,fill=\"both\")\n",
    "        return frame\n",
    "    \n",
    "    def run(self):\n",
    "        self.window.mainloop()\n",
    "\n",
    "if __name__==\"__main__\":\n",
    "    cal=Calc()\n",
    "    cal.run()"
   ]
  },
  {
   "cell_type": "code",
   "execution_count": null,
   "metadata": {},
   "outputs": [],
   "source": []
  },
  {
   "cell_type": "code",
   "execution_count": null,
   "metadata": {},
   "outputs": [],
   "source": []
  }
 ],
 "metadata": {
  "kernelspec": {
   "display_name": "Python 3",
   "language": "python",
   "name": "python3"
  },
  "language_info": {
   "codemirror_mode": {
    "name": "ipython",
    "version": 3
   },
   "file_extension": ".py",
   "mimetype": "text/x-python",
   "name": "python",
   "nbconvert_exporter": "python",
   "pygments_lexer": "ipython3",
   "version": "3.7.4"
  }
 },
 "nbformat": 4,
 "nbformat_minor": 2
}
